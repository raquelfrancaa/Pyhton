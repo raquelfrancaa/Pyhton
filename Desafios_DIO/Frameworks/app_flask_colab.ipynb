{
 "cells": [
  {
   "cell_type": "code",
   "execution_count": null,
   "metadata": {},
   "outputs": [],
   "source": [
    "# Importando as bibliotecas necessárias\n",
    "!pip install flask-ngrok\n",
    "import pandas as pd\n",
    "from flask import Flask, jsonify\n",
    "from flask_ngrok import run_with_ngrok\n",
    "\n",
    "# Inicializando o app Flask\n",
    "app = Flask(__name__)\n",
    "run_with_ngrok(app)\n",
    "\n",
    "# Criando um DataFrame simples\n",
    "data = {\n",
    "    'Nome': ['Ana', 'Carlos', 'Beatriz', 'Pedro'],\n",
    "    'Idade': [23, 45, 34, 29],\n",
    "    'Profissão': ['Engenheira', 'Professor', 'Médica', 'Advogado']\n",
    "}\n",
    "\n",
    "# Criando um DataFrame e salvando como CSV\n",
    "df = pd.DataFrame(data)\n",
    "df.to_csv('planilha_exemplo.csv', index=False)\n",
    "\n",
    "# Carregando a planilha criada\n",
    "df = pd.read_csv('planilha_exemplo.csv')\n",
    "data = df.to_dict(orient='records')\n",
    "\n",
    "# Página inicial\n",
    "@app.route(\"/\")\n",
    "def home():\n",
    "    return \"<h1>API Flask para Leitura de Planilha JSON</h1><p>Acesse '/data' para ver os dados da planilha.</p>\"\n",
    "\n",
    "# Rota para exibir os dados da planilha\n",
    "@app.route(\"/data\", methods=['GET'])\n",
    "def get_data():\n",
    "    return jsonify(data)\n",
    "\n",
    "# Rodando o servidor Flask\n",
    "if __name__ == \"__main__\":\n",
    "    app.run()\n"
   ]
  }
 ],
 "metadata": {
  "language_info": {
   "name": "python"
  }
 },
 "nbformat": 4,
 "nbformat_minor": 2
}
